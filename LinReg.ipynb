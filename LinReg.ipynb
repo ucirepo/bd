{
 "cells": [
  {
   "cell_type": "code",
   "execution_count": 17,
   "id": "630b17d5-9d66-4bf5-b930-c4dfd3f4d09a",
   "metadata": {},
   "outputs": [
    {
     "name": "stdout",
     "output_type": "stream",
     "text": [
      "Requirement already satisfied: pyspark in c:\\users\\itzsh\\appdata\\local\\programs\\python\\python312\\lib\\site-packages (3.5.5)\n",
      "Requirement already satisfied: py4j==0.10.9.7 in c:\\users\\itzsh\\appdata\\local\\programs\\python\\python312\\lib\\site-packages (from pyspark) (0.10.9.7)\n"
     ]
    },
    {
     "name": "stderr",
     "output_type": "stream",
     "text": [
      "WARNING: Ignoring invalid distribution ~ip (C:\\Users\\itzsh\\AppData\\Local\\Programs\\Python\\Python312\\Lib\\site-packages)\n",
      "WARNING: Ignoring invalid distribution ~ip (C:\\Users\\itzsh\\AppData\\Local\\Programs\\Python\\Python312\\Lib\\site-packages)\n",
      "WARNING: Ignoring invalid distribution ~ip (C:\\Users\\itzsh\\AppData\\Local\\Programs\\Python\\Python312\\Lib\\site-packages)\n"
     ]
    }
   ],
   "source": [
    "!pip install pyspark"
   ]
  },
  {
   "cell_type": "code",
   "execution_count": 18,
   "id": "011edfb3-0f84-4a8a-8077-a466e86b00c3",
   "metadata": {},
   "outputs": [],
   "source": [
    "from pyspark.sql import SparkSession\n",
    "from pyspark.sql import Row\n",
    "from pyspark.ml.feature import VectorAssembler\n",
    "from pyspark.ml.regression import LinearRegression"
   ]
  },
  {
   "cell_type": "code",
   "execution_count": 19,
   "id": "ca87d0d5-1725-420e-949a-1a4db0aa9045",
   "metadata": {},
   "outputs": [],
   "source": [
    "spark = SparkSession.builder.appName(\"Linear Regression Example\").getOrCreate()"
   ]
  },
  {
   "cell_type": "code",
   "execution_count": 20,
   "id": "4a7c8fec-940d-402d-ae6e-522e2ca0d620",
   "metadata": {},
   "outputs": [
    {
     "data": {
      "text/html": [
       "\n",
       "            <div>\n",
       "                <p><b>SparkSession - in-memory</b></p>\n",
       "                \n",
       "        <div>\n",
       "            <p><b>SparkContext</b></p>\n",
       "\n",
       "            <p><a href=\"http://SHIVAM-HP-ENVY:4040\">Spark UI</a></p>\n",
       "\n",
       "            <dl>\n",
       "              <dt>Version</dt>\n",
       "                <dd><code>v3.5.5</code></dd>\n",
       "              <dt>Master</dt>\n",
       "                <dd><code>local[*]</code></dd>\n",
       "              <dt>AppName</dt>\n",
       "                <dd><code>Linear Regression Example</code></dd>\n",
       "            </dl>\n",
       "        </div>\n",
       "        \n",
       "            </div>\n",
       "        "
      ],
      "text/plain": [
       "<pyspark.sql.session.SparkSession at 0x18eaaf29340>"
      ]
     },
     "execution_count": 20,
     "metadata": {},
     "output_type": "execute_result"
    }
   ],
   "source": [
    "spark"
   ]
  },
  {
   "cell_type": "code",
   "execution_count": 30,
   "id": "4aba5b35-cb67-4c87-89e7-5d93436b5f29",
   "metadata": {},
   "outputs": [],
   "source": [
    "df=spark.read.csv('houses.txt', header=True, inferSchema=True)"
   ]
  },
  {
   "cell_type": "code",
   "execution_count": 31,
   "id": "6b3c91a1-6e28-4ace-99fa-6613a3030f1c",
   "metadata": {},
   "outputs": [
    {
     "name": "stdout",
     "output_type": "stream",
     "text": [
      "+-------+-----------+--------+---------+\n",
      "|HouseID|Size (sqft)|Bedrooms|Price ($)|\n",
      "+-------+-----------+--------+---------+\n",
      "|1      |1500       |3       |250000   |\n",
      "|2      |1800       |4       |320000   |\n",
      "|3      |2400       |3       |450000   |\n",
      "|4      |1400       |2       |230000   |\n",
      "|5      |1700       |3       |310000   |\n",
      "|6      |2200       |4       |400000   |\n",
      "|7      |2000       |3       |360000   |\n",
      "|8      |1600       |2       |290000   |\n",
      "|9      |1900       |4       |330000   |\n",
      "|10     |2100       |3       |370000   |\n",
      "+-------+-----------+--------+---------+\n",
      "\n"
     ]
    }
   ],
   "source": [
    "df.show(truncate=False)"
   ]
  },
  {
   "cell_type": "code",
   "execution_count": 34,
   "id": "32233711-2991-4791-a0ba-7c364608e909",
   "metadata": {},
   "outputs": [
    {
     "data": {
      "text/plain": [
       "pyspark.sql.dataframe.DataFrame"
      ]
     },
     "execution_count": 34,
     "metadata": {},
     "output_type": "execute_result"
    }
   ],
   "source": [
    "type(df)"
   ]
  },
  {
   "cell_type": "code",
   "execution_count": 35,
   "id": "8ab87369-f96b-4f55-80e2-0498da69af98",
   "metadata": {},
   "outputs": [
    {
     "name": "stdout",
     "output_type": "stream",
     "text": [
      "root\n",
      " |-- HouseID: integer (nullable = true)\n",
      " |-- Size (sqft): integer (nullable = true)\n",
      " |-- Bedrooms: integer (nullable = true)\n",
      " |-- Price ($): integer (nullable = true)\n",
      "\n"
     ]
    }
   ],
   "source": [
    "df.printSchema() "
   ]
  },
  {
   "cell_type": "code",
   "execution_count": 38,
   "id": "270f8d07-df0f-467a-b8b0-8d6efa37a8cb",
   "metadata": {},
   "outputs": [
    {
     "name": "stdout",
     "output_type": "stream",
     "text": [
      "+-------+-----------+--------+---------+------------+\n",
      "|HouseID|Size (sqft)|Bedrooms|Price ($)|    features|\n",
      "+-------+-----------+--------+---------+------------+\n",
      "|      1|       1500|       3|   250000|[1500.0,3.0]|\n",
      "|      2|       1800|       4|   320000|[1800.0,4.0]|\n",
      "|      3|       2400|       3|   450000|[2400.0,3.0]|\n",
      "|      4|       1400|       2|   230000|[1400.0,2.0]|\n",
      "|      5|       1700|       3|   310000|[1700.0,3.0]|\n",
      "|      6|       2200|       4|   400000|[2200.0,4.0]|\n",
      "|      7|       2000|       3|   360000|[2000.0,3.0]|\n",
      "|      8|       1600|       2|   290000|[1600.0,2.0]|\n",
      "|      9|       1900|       4|   330000|[1900.0,4.0]|\n",
      "|     10|       2100|       3|   370000|[2100.0,3.0]|\n",
      "+-------+-----------+--------+---------+------------+\n",
      "\n"
     ]
    }
   ],
   "source": [
    "assembler = VectorAssembler(inputCols=[\"Size (sqft)\", \"Bedrooms\"], outputCol=\"features\")\n",
    "final_data = assembler.transform(df)\n",
    "final_data.show()"
   ]
  },
  {
   "cell_type": "code",
   "execution_count": 39,
   "id": "8f6bf5e7-05af-44a1-9cfc-3714e5bd7b96",
   "metadata": {},
   "outputs": [],
   "source": [
    "train_data, test_data = final_data.randomSplit([0.8, 0.2], seed=42)"
   ]
  },
  {
   "cell_type": "code",
   "execution_count": 41,
   "id": "877290f7-2a41-4ac3-8980-a4af9646dbb4",
   "metadata": {},
   "outputs": [],
   "source": [
    "lr = LinearRegression(featuresCol=\"features\", labelCol=\"Price ($)\")\n",
    "lr_model = lr.fit(train_data)"
   ]
  },
  {
   "cell_type": "code",
   "execution_count": 42,
   "id": "b207cdc0-ed9a-4051-8343-c4064b5d8838",
   "metadata": {},
   "outputs": [
    {
     "name": "stdout",
     "output_type": "stream",
     "text": [
      "R² Score: 0.9777230063485293\n",
      "Root Mean Squared Error (RMSE): 7610.531091443211\n",
      "Coefficients: [201.9900497512404,-497.5124378103038]\n",
      "Intercept: -43432.83582089144\n"
     ]
    }
   ],
   "source": [
    "test_results = lr_model.evaluate(test_data)\n",
    "print(f\"R² Score: {test_results.r2}\")\n",
    "print(f\"Root Mean Squared Error (RMSE): {test_results.rootMeanSquaredError}\")\n",
    "print(f\"Coefficients: {lr_model.coefficients}\")\n",
    "print(f\"Intercept: {lr_model.intercept}\")\n"
   ]
  },
  {
   "cell_type": "code",
   "execution_count": 44,
   "id": "3672a101-97bc-41a3-ae2e-8d7e85de6230",
   "metadata": {},
   "outputs": [
    {
     "name": "stdout",
     "output_type": "stream",
     "text": [
      "+------------+---------+------------------+\n",
      "|    features|Price ($)|        prediction|\n",
      "+------------+---------+------------------+\n",
      "|[2400.0,3.0]|   450000|439850.74626865465|\n",
      "|[2000.0,3.0]|   360000| 359054.7263681585|\n",
      "|[1900.0,4.0]|   330000|338358.20895522414|\n",
      "+------------+---------+------------------+\n",
      "\n"
     ]
    }
   ],
   "source": [
    "predictions = lr_model.transform(test_data)\n",
    "predictions.select(\"features\", \"Price ($)\", \"prediction\").show()"
   ]
  },
  {
   "cell_type": "code",
   "execution_count": null,
   "id": "4f0b64d1-770d-42d3-b1f9-119b1bbeeb4e",
   "metadata": {},
   "outputs": [],
   "source": []
  }
 ],
 "metadata": {
  "kernelspec": {
   "display_name": "Python 3 (ipykernel)",
   "language": "python",
   "name": "python3"
  },
  "language_info": {
   "codemirror_mode": {
    "name": "ipython",
    "version": 3
   },
   "file_extension": ".py",
   "mimetype": "text/x-python",
   "name": "python",
   "nbconvert_exporter": "python",
   "pygments_lexer": "ipython3",
   "version": "3.12.7"
  }
 },
 "nbformat": 4,
 "nbformat_minor": 5
}
