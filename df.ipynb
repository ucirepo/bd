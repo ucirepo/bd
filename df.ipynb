{
 "cells": [
  {
   "cell_type": "code",
   "execution_count": 1,
   "id": "2250b71c-c558-44b8-82f0-7981c93524ff",
   "metadata": {},
   "outputs": [
    {
     "name": "stdout",
     "output_type": "stream",
     "text": [
      "Requirement already satisfied: pyspark in c:\\users\\itzsh\\appdata\\local\\programs\\python\\python312\\lib\\site-packages (3.5.5)\n",
      "Requirement already satisfied: py4j==0.10.9.7 in c:\\users\\itzsh\\appdata\\local\\programs\\python\\python312\\lib\\site-packages (from pyspark) (0.10.9.7)\n"
     ]
    },
    {
     "name": "stderr",
     "output_type": "stream",
     "text": [
      "WARNING: Ignoring invalid distribution ~ip (C:\\Users\\itzsh\\AppData\\Local\\Programs\\Python\\Python312\\Lib\\site-packages)\n",
      "WARNING: Ignoring invalid distribution ~ip (C:\\Users\\itzsh\\AppData\\Local\\Programs\\Python\\Python312\\Lib\\site-packages)\n",
      "WARNING: Ignoring invalid distribution ~ip (C:\\Users\\itzsh\\AppData\\Local\\Programs\\Python\\Python312\\Lib\\site-packages)\n"
     ]
    }
   ],
   "source": [
    "!pip install pyspark"
   ]
  },
  {
   "cell_type": "code",
   "execution_count": 2,
   "id": "f783e514-3f7e-4dcc-abe2-79618abad46d",
   "metadata": {},
   "outputs": [],
   "source": [
    "from pyspark.sql import SparkSession"
   ]
  },
  {
   "cell_type": "code",
   "execution_count": 3,
   "id": "307f6f3d-30bb-4159-80fa-19233bd63620",
   "metadata": {},
   "outputs": [],
   "source": [
    "from pyspark.sql.functions import *"
   ]
  },
  {
   "cell_type": "code",
   "execution_count": 4,
   "id": "3ac2c35d-e00f-4f30-a7af-574015d0c9ce",
   "metadata": {},
   "outputs": [],
   "source": [
    "spark=SparkSession.builder.appName('Spark').getOrCreate()"
   ]
  },
  {
   "cell_type": "code",
   "execution_count": 5,
   "id": "3fab2525-3b4e-4a87-8dae-d63ec7180e34",
   "metadata": {},
   "outputs": [
    {
     "data": {
      "text/html": [
       "\n",
       "            <div>\n",
       "                <p><b>SparkSession - in-memory</b></p>\n",
       "                \n",
       "        <div>\n",
       "            <p><b>SparkContext</b></p>\n",
       "\n",
       "            <p><a href=\"http://SHIVAM-HP-ENVY:4043\">Spark UI</a></p>\n",
       "\n",
       "            <dl>\n",
       "              <dt>Version</dt>\n",
       "                <dd><code>v3.5.5</code></dd>\n",
       "              <dt>Master</dt>\n",
       "                <dd><code>local[*]</code></dd>\n",
       "              <dt>AppName</dt>\n",
       "                <dd><code>Spark</code></dd>\n",
       "            </dl>\n",
       "        </div>\n",
       "        \n",
       "            </div>\n",
       "        "
      ],
      "text/plain": [
       "<pyspark.sql.session.SparkSession at 0x28ba8ad06b0>"
      ]
     },
     "execution_count": 5,
     "metadata": {},
     "output_type": "execute_result"
    }
   ],
   "source": [
    "spark"
   ]
  },
  {
   "cell_type": "code",
   "execution_count": 6,
   "id": "5e71c2da-9bb6-4626-99fc-5c8c08576c30",
   "metadata": {},
   "outputs": [],
   "source": [
    "df1=spark.read.csv(\"employees.csv\",header=True,inferSchema=True)"
   ]
  },
  {
   "cell_type": "code",
   "execution_count": 7,
   "id": "531fba3c-c871-40b2-bdc2-f96841045897",
   "metadata": {},
   "outputs": [
    {
     "name": "stdout",
     "output_type": "stream",
     "text": [
      "+----------+-------+----------+------+\n",
      "|EmployeeID|   Name|Department|Salary|\n",
      "+----------+-------+----------+------+\n",
      "|       101|  Alice|        HR|  4500|\n",
      "|       102|    Bob|        IT|  6000|\n",
      "|       103|Charlie|   Finance|  5500|\n",
      "|       104|  Diana|        HR|  4800|\n",
      "|       105|  Ethan|        IT|  7000|\n",
      "|       106|  Fiona|   Finance|  5200|\n",
      "|       107| George|        IT|  5800|\n",
      "|       108| Hannah|        HR|  4700|\n",
      "|       109|    Ian|   Finance|  5100|\n",
      "|       110|   Jane|        IT|  7500|\n",
      "+----------+-------+----------+------+\n",
      "\n"
     ]
    }
   ],
   "source": [
    "df1.show()"
   ]
  },
  {
   "cell_type": "code",
   "execution_count": 8,
   "id": "14969813-062a-4ecf-8316-a65ef57e18bb",
   "metadata": {},
   "outputs": [
    {
     "name": "stdout",
     "output_type": "stream",
     "text": [
      "+----------+-------+----------+------+\n",
      "|EmployeeID|   Name|Department|Salary|\n",
      "+----------+-------+----------+------+\n",
      "|       102|    Bob|        IT|  6000|\n",
      "|       103|Charlie|   Finance|  5500|\n",
      "|       105|  Ethan|        IT|  7000|\n",
      "|       106|  Fiona|   Finance|  5200|\n",
      "|       107| George|        IT|  5800|\n",
      "|       109|    Ian|   Finance|  5100|\n",
      "|       110|   Jane|        IT|  7500|\n",
      "+----------+-------+----------+------+\n",
      "\n"
     ]
    }
   ],
   "source": [
    "df1.filter(df1['Salary']>5000).show()"
   ]
  },
  {
   "cell_type": "code",
   "execution_count": 9,
   "id": "a30ba5f8-3a5c-4c1a-9256-36619e363dfa",
   "metadata": {},
   "outputs": [
    {
     "name": "stdout",
     "output_type": "stream",
     "text": [
      "+----------+---------------+-----------+\n",
      "|Department|sum(EmployeeID)|sum(Salary)|\n",
      "+----------+---------------+-----------+\n",
      "|        HR|            313|      14000|\n",
      "|   Finance|            318|      15800|\n",
      "|        IT|            424|      26300|\n",
      "+----------+---------------+-----------+\n",
      "\n"
     ]
    }
   ],
   "source": [
    "df1.groupby('Department').sum().show()"
   ]
  },
  {
   "cell_type": "code",
   "execution_count": 10,
   "id": "a342549d-9114-4db9-807e-1e23b9cc30d7",
   "metadata": {},
   "outputs": [
    {
     "name": "stdout",
     "output_type": "stream",
     "text": [
      "+----------+----+----------+------+\n",
      "|EmployeeID|Name|Department|Salary|\n",
      "+----------+----+----------+------+\n",
      "|       110|Jane|        IT|  7500|\n",
      "+----------+----+----------+------+\n",
      "\n"
     ]
    }
   ],
   "source": [
    "df1.orderBy(df1.Salary.desc()).limit(1).show()"
   ]
  },
  {
   "cell_type": "code",
   "execution_count": 11,
   "id": "d0df246b-0fa4-4ddd-8849-9728db8c423e",
   "metadata": {},
   "outputs": [],
   "source": [
    "df2=spark.read.csv('sales.csv',header=True,inferSchema=True)"
   ]
  },
  {
   "cell_type": "code",
   "execution_count": 12,
   "id": "d7c485e2-8115-4bde-a81c-9421f4fe2858",
   "metadata": {},
   "outputs": [
    {
     "name": "stdout",
     "output_type": "stream",
     "text": [
      "+-------------+----------+--------+-----+\n",
      "|TransactionID|   Product|Quantity|Price|\n",
      "+-------------+----------+--------+-----+\n",
      "|            1|    Laptop|       5| 1000|\n",
      "|            2|Smartphone|      10|  500|\n",
      "|            3|Headphones|      15|  100|\n",
      "|            4|Smartwatch|       7|  300|\n",
      "|            5|    Tablet|       8|  400|\n",
      "|            6|   Monitor|       4|  200|\n",
      "|            7|  Keyboard|      20|   50|\n",
      "|            8|     Mouse|      25|   25|\n",
      "|            9|   Speaker|      12|  150|\n",
      "|           10|   Printer|       6|  250|\n",
      "+-------------+----------+--------+-----+\n",
      "\n"
     ]
    }
   ],
   "source": [
    "df2.show()"
   ]
  },
  {
   "cell_type": "code",
   "execution_count": 13,
   "id": "6d6055be-24eb-4d40-9490-700eb4ed32ce",
   "metadata": {},
   "outputs": [
    {
     "name": "stdout",
     "output_type": "stream",
     "text": [
      "+-------+------------------+----------+-----------------+------------------+\n",
      "|summary|     TransactionID|   Product|         Quantity|             Price|\n",
      "+-------+------------------+----------+-----------------+------------------+\n",
      "|  count|                10|        10|               10|                10|\n",
      "|   mean|               5.5|      NULL|             11.2|             297.5|\n",
      "| stddev|3.0276503540974917|      NULL|6.908931417616862|289.26391256275144|\n",
      "|    min|                 1|Headphones|                4|                25|\n",
      "|    max|                10|    Tablet|               25|              1000|\n",
      "+-------+------------------+----------+-----------------+------------------+\n",
      "\n"
     ]
    }
   ],
   "source": [
    "df2.describe().show()"
   ]
  },
  {
   "cell_type": "code",
   "execution_count": 14,
   "id": "9beb82a6-b98f-4919-99c0-9f853c90a928",
   "metadata": {},
   "outputs": [],
   "source": [
    "df2=df2.withColumn('Total Cost',df2['Quantity']*df2['Price'])"
   ]
  },
  {
   "cell_type": "code",
   "execution_count": 15,
   "id": "5f1aa67c-18ca-4316-a551-9c3f72f75191",
   "metadata": {},
   "outputs": [
    {
     "name": "stdout",
     "output_type": "stream",
     "text": [
      "+-------------+----------+--------+-----+----------+\n",
      "|TransactionID|   Product|Quantity|Price|Total Cost|\n",
      "+-------------+----------+--------+-----+----------+\n",
      "|            1|    Laptop|       5| 1000|      5000|\n",
      "|            2|Smartphone|      10|  500|      5000|\n",
      "|            3|Headphones|      15|  100|      1500|\n",
      "|            4|Smartwatch|       7|  300|      2100|\n",
      "|            5|    Tablet|       8|  400|      3200|\n",
      "|            6|   Monitor|       4|  200|       800|\n",
      "|            7|  Keyboard|      20|   50|      1000|\n",
      "|            8|     Mouse|      25|   25|       625|\n",
      "|            9|   Speaker|      12|  150|      1800|\n",
      "|           10|   Printer|       6|  250|      1500|\n",
      "+-------------+----------+--------+-----+----------+\n",
      "\n"
     ]
    }
   ],
   "source": [
    "df2.show()"
   ]
  },
  {
   "cell_type": "code",
   "execution_count": 16,
   "id": "589bcec0-916c-4b9a-8708-92fbf0effce5",
   "metadata": {},
   "outputs": [
    {
     "name": "stdout",
     "output_type": "stream",
     "text": [
      "+----------+---------------+\n",
      "|   Product|sum(Total Cost)|\n",
      "+----------+---------------+\n",
      "|    Laptop|           5000|\n",
      "|Smartphone|           5000|\n",
      "+----------+---------------+\n",
      "only showing top 2 rows\n",
      "\n"
     ]
    }
   ],
   "source": [
    "df2.groupBy(\"Product\").agg(sum(\"Total Cost\")).orderBy(\"sum(Total Cost)\", ascending=False).show(2)"
   ]
  },
  {
   "cell_type": "code",
   "execution_count": 18,
   "id": "74876699-29ae-4625-8aa8-c78b66fbc0d0",
   "metadata": {},
   "outputs": [
    {
     "name": "stdout",
     "output_type": "stream",
     "text": [
      "+---------------+\n",
      "|sum(Total Cost)|\n",
      "+---------------+\n",
      "|          22525|\n",
      "+---------------+\n",
      "\n"
     ]
    }
   ],
   "source": [
    "df2.agg(sum(\"Total Cost\")).show()"
   ]
  }
 ],
 "metadata": {
  "kernelspec": {
   "display_name": "Python 3 (ipykernel)",
   "language": "python",
   "name": "python3"
  },
  "language_info": {
   "codemirror_mode": {
    "name": "ipython",
    "version": 3
   },
   "file_extension": ".py",
   "mimetype": "text/x-python",
   "name": "python",
   "nbconvert_exporter": "python",
   "pygments_lexer": "ipython3",
   "version": "3.12.7"
  }
 },
 "nbformat": 4,
 "nbformat_minor": 5
}
