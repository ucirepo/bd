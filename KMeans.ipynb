{
 "cells": [
  {
   "cell_type": "code",
   "execution_count": 1,
   "id": "7dffac78-4dca-49d3-86c7-9be0b06fae66",
   "metadata": {},
   "outputs": [
    {
     "name": "stdout",
     "output_type": "stream",
     "text": [
      "Requirement already satisfied: pyspark in c:\\users\\itzsh\\appdata\\local\\programs\\python\\python312\\lib\\site-packages (3.5.5)\n",
      "Requirement already satisfied: py4j==0.10.9.7 in c:\\users\\itzsh\\appdata\\local\\programs\\python\\python312\\lib\\site-packages (from pyspark) (0.10.9.7)\n"
     ]
    },
    {
     "name": "stderr",
     "output_type": "stream",
     "text": [
      "WARNING: Ignoring invalid distribution ~ip (C:\\Users\\itzsh\\AppData\\Local\\Programs\\Python\\Python312\\Lib\\site-packages)\n",
      "WARNING: Ignoring invalid distribution ~ip (C:\\Users\\itzsh\\AppData\\Local\\Programs\\Python\\Python312\\Lib\\site-packages)\n",
      "WARNING: Ignoring invalid distribution ~ip (C:\\Users\\itzsh\\AppData\\Local\\Programs\\Python\\Python312\\Lib\\site-packages)\n"
     ]
    }
   ],
   "source": [
    "!pip install pyspark"
   ]
  },
  {
   "cell_type": "code",
   "execution_count": 2,
   "id": "e0b8c6a6-5dad-42b8-a00b-61da886ff86a",
   "metadata": {},
   "outputs": [],
   "source": [
    "from pyspark.sql import SparkSession"
   ]
  },
  {
   "cell_type": "code",
   "execution_count": 3,
   "id": "a84de046-770d-4f7e-afd7-35d77b6d5f89",
   "metadata": {},
   "outputs": [],
   "source": [
    "from pyspark.ml.feature import *"
   ]
  },
  {
   "cell_type": "code",
   "execution_count": 4,
   "id": "3625f925-0702-4cf1-a9a8-cef94aae4791",
   "metadata": {},
   "outputs": [],
   "source": [
    "from pyspark.ml.clustering import KMeans"
   ]
  },
  {
   "cell_type": "code",
   "execution_count": 5,
   "id": "e7fe3d93-9663-4b5c-bc06-921a9313626a",
   "metadata": {},
   "outputs": [],
   "source": [
    "spark=SparkSession.builder.appName(\"SpSession\").getOrCreate()"
   ]
  },
  {
   "cell_type": "code",
   "execution_count": 6,
   "id": "14214900-668a-44af-ae0e-1485de32f8b5",
   "metadata": {},
   "outputs": [
    {
     "data": {
      "text/html": [
       "\n",
       "            <div>\n",
       "                <p><b>SparkSession - in-memory</b></p>\n",
       "                \n",
       "        <div>\n",
       "            <p><b>SparkContext</b></p>\n",
       "\n",
       "            <p><a href=\"http://SHIVAM-HP-ENVY:4042\">Spark UI</a></p>\n",
       "\n",
       "            <dl>\n",
       "              <dt>Version</dt>\n",
       "                <dd><code>v3.5.5</code></dd>\n",
       "              <dt>Master</dt>\n",
       "                <dd><code>local[*]</code></dd>\n",
       "              <dt>AppName</dt>\n",
       "                <dd><code>SpSession</code></dd>\n",
       "            </dl>\n",
       "        </div>\n",
       "        \n",
       "            </div>\n",
       "        "
      ],
      "text/plain": [
       "<pyspark.sql.session.SparkSession at 0x238663fbec0>"
      ]
     },
     "execution_count": 6,
     "metadata": {},
     "output_type": "execute_result"
    }
   ],
   "source": [
    "spark"
   ]
  },
  {
   "cell_type": "code",
   "execution_count": 7,
   "id": "b5d70c58-a338-4db0-aece-3325f3556e05",
   "metadata": {},
   "outputs": [],
   "source": [
    "data=spark.read.csv('customer_data.csv',header=True,inferSchema=True)"
   ]
  },
  {
   "cell_type": "code",
   "execution_count": 8,
   "id": "dd8f2473-d6d7-4d43-9854-cf774b29bee7",
   "metadata": {},
   "outputs": [
    {
     "name": "stdout",
     "output_type": "stream",
     "text": [
      "+----------+---+-------------+--------------+\n",
      "|CustomerID|Age|Annual_Income|Spending_Score|\n",
      "+----------+---+-------------+--------------+\n",
      "|         1| 19|        15000|            39|\n",
      "|         2| 21|        18000|            81|\n",
      "|         3| 20|        19000|             6|\n",
      "|         4| 23|        22000|            77|\n",
      "|         5| 31|        25000|            40|\n",
      "|         6| 22|        17000|            76|\n",
      "|         7| 35|        20000|            94|\n",
      "|         8| 40|        27000|             3|\n",
      "|         9| 23|        29000|            72|\n",
      "|        10| 28|        30000|            14|\n",
      "+----------+---+-------------+--------------+\n",
      "\n"
     ]
    }
   ],
   "source": [
    "data.show()"
   ]
  },
  {
   "cell_type": "code",
   "execution_count": 9,
   "id": "b8ac0dea-aa13-46e0-bef4-224b1e3c85fd",
   "metadata": {},
   "outputs": [
    {
     "name": "stdout",
     "output_type": "stream",
     "text": [
      "root\n",
      " |-- CustomerID: integer (nullable = true)\n",
      " |-- Age: integer (nullable = true)\n",
      " |-- Annual_Income: integer (nullable = true)\n",
      " |-- Spending_Score: integer (nullable = true)\n",
      "\n"
     ]
    }
   ],
   "source": [
    "data.printSchema()"
   ]
  },
  {
   "cell_type": "code",
   "execution_count": 10,
   "id": "31746caf-480d-4932-9e52-acf34c21280c",
   "metadata": {},
   "outputs": [],
   "source": [
    "data=data.dropna()"
   ]
  },
  {
   "cell_type": "code",
   "execution_count": 11,
   "id": "a932c726-11da-4342-b77a-dae4236029de",
   "metadata": {},
   "outputs": [
    {
     "name": "stdout",
     "output_type": "stream",
     "text": [
      "+----------+---+-------------+--------------+\n",
      "|CustomerID|Age|Annual_Income|Spending_Score|\n",
      "+----------+---+-------------+--------------+\n",
      "|         1| 19|        15000|            39|\n",
      "|         2| 21|        18000|            81|\n",
      "|         3| 20|        19000|             6|\n",
      "|         4| 23|        22000|            77|\n",
      "|         5| 31|        25000|            40|\n",
      "|         6| 22|        17000|            76|\n",
      "|         7| 35|        20000|            94|\n",
      "|         8| 40|        27000|             3|\n",
      "|         9| 23|        29000|            72|\n",
      "|        10| 28|        30000|            14|\n",
      "+----------+---+-------------+--------------+\n",
      "\n"
     ]
    }
   ],
   "source": [
    "data.show()"
   ]
  },
  {
   "cell_type": "code",
   "execution_count": 12,
   "id": "83c9ca5e-1230-4622-997b-ff3d926fd78c",
   "metadata": {},
   "outputs": [],
   "source": [
    "features=['Annual_Income','Spending_Score']"
   ]
  },
  {
   "cell_type": "code",
   "execution_count": 13,
   "id": "16a05789-3862-4653-b741-bcfa5ff41b96",
   "metadata": {},
   "outputs": [],
   "source": [
    "assembler=VectorAssembler(inputCols=features,outputCol='features_raw')"
   ]
  },
  {
   "cell_type": "code",
   "execution_count": 14,
   "id": "9db48189-6554-423d-bdb2-88f4d0b95f48",
   "metadata": {},
   "outputs": [],
   "source": [
    "final_data = assembler.transform(data)"
   ]
  },
  {
   "cell_type": "code",
   "execution_count": 15,
   "id": "731552ee-0f92-4c44-9f05-8b42f3db63e1",
   "metadata": {},
   "outputs": [],
   "source": [
    "scaler = StandardScaler(inputCol='features_raw', outputCol='features', withStd=True, withMean=True)"
   ]
  },
  {
   "cell_type": "code",
   "execution_count": 17,
   "id": "173c7eae-80d1-4015-91e8-6c9fecd07cfe",
   "metadata": {},
   "outputs": [],
   "source": [
    "scaled_data = scaler.fit(final_data).transform(final_data)"
   ]
  },
  {
   "cell_type": "code",
   "execution_count": 18,
   "id": "8ca0d7bd-b409-46df-9f14-346630681021",
   "metadata": {},
   "outputs": [],
   "source": [
    "kmeans = KMeans(k=4, seed=1, featuresCol='features', predictionCol='cluster')"
   ]
  },
  {
   "cell_type": "code",
   "execution_count": 19,
   "id": "291f3b89-6300-4d0b-b105-d5ec50889326",
   "metadata": {},
   "outputs": [],
   "source": [
    "model = kmeans.fit(scaled_data)"
   ]
  },
  {
   "cell_type": "code",
   "execution_count": 20,
   "id": "711a020e-99a6-4ca9-bb04-fcb0efaff791",
   "metadata": {},
   "outputs": [
    {
     "name": "stdout",
     "output_type": "stream",
     "text": [
      "Within Set Sum of Squared Errors: 2.54551641138782\n"
     ]
    }
   ],
   "source": [
    "cost = model.summary.trainingCost\n",
    "print('Within Set Sum of Squared Errors:', cost)"
   ]
  },
  {
   "cell_type": "code",
   "execution_count": 21,
   "id": "6196cace-78ad-493c-822c-9bb16b495e96",
   "metadata": {},
   "outputs": [],
   "source": [
    "predictions = model.transform(scaled_data)"
   ]
  },
  {
   "cell_type": "code",
   "execution_count": 22,
   "id": "3e0e0811-ea0d-401a-a172-2811480abbeb",
   "metadata": {},
   "outputs": [
    {
     "name": "stdout",
     "output_type": "stream",
     "text": [
      "+----------+---+-------------+--------------+\n",
      "|CustomerID|Age|Annual_Income|Spending_Score|\n",
      "+----------+---+-------------+--------------+\n",
      "|         1| 19|        15000|            39|\n",
      "|         2| 21|        18000|            81|\n",
      "|         3| 20|        19000|             6|\n",
      "|         4| 23|        22000|            77|\n",
      "|         5| 31|        25000|            40|\n",
      "|         6| 22|        17000|            76|\n",
      "|         7| 35|        20000|            94|\n",
      "|         8| 40|        27000|             3|\n",
      "|         9| 23|        29000|            72|\n",
      "|        10| 28|        30000|            14|\n",
      "+----------+---+-------------+--------------+\n",
      "\n"
     ]
    }
   ],
   "source": [
    "predictions.select('CustomerID','Age','Annual_Income','Spending_Score').show()"
   ]
  },
  {
   "cell_type": "code",
   "execution_count": 23,
   "id": "006a957d-b627-45fb-9cb2-e3b16c0ec32c",
   "metadata": {},
   "outputs": [],
   "source": [
    "pandas_df = predictions.select('Age','Annual_Income','Spending_Score', 'cluster').toPandas()"
   ]
  },
  {
   "cell_type": "code",
   "execution_count": 24,
   "id": "21742f76-5fe0-4645-a3a3-6516bb11d963",
   "metadata": {},
   "outputs": [
    {
     "data": {
      "text/html": [
       "<div>\n",
       "<style scoped>\n",
       "    .dataframe tbody tr th:only-of-type {\n",
       "        vertical-align: middle;\n",
       "    }\n",
       "\n",
       "    .dataframe tbody tr th {\n",
       "        vertical-align: top;\n",
       "    }\n",
       "\n",
       "    .dataframe thead th {\n",
       "        text-align: right;\n",
       "    }\n",
       "</style>\n",
       "<table border=\"1\" class=\"dataframe\">\n",
       "  <thead>\n",
       "    <tr style=\"text-align: right;\">\n",
       "      <th></th>\n",
       "      <th>Age</th>\n",
       "      <th>Annual_Income</th>\n",
       "      <th>Spending_Score</th>\n",
       "      <th>cluster</th>\n",
       "    </tr>\n",
       "  </thead>\n",
       "  <tbody>\n",
       "    <tr>\n",
       "      <th>0</th>\n",
       "      <td>19</td>\n",
       "      <td>15000</td>\n",
       "      <td>39</td>\n",
       "      <td>1</td>\n",
       "    </tr>\n",
       "    <tr>\n",
       "      <th>1</th>\n",
       "      <td>21</td>\n",
       "      <td>18000</td>\n",
       "      <td>81</td>\n",
       "      <td>2</td>\n",
       "    </tr>\n",
       "    <tr>\n",
       "      <th>2</th>\n",
       "      <td>20</td>\n",
       "      <td>19000</td>\n",
       "      <td>6</td>\n",
       "      <td>1</td>\n",
       "    </tr>\n",
       "    <tr>\n",
       "      <th>3</th>\n",
       "      <td>23</td>\n",
       "      <td>22000</td>\n",
       "      <td>77</td>\n",
       "      <td>2</td>\n",
       "    </tr>\n",
       "    <tr>\n",
       "      <th>4</th>\n",
       "      <td>31</td>\n",
       "      <td>25000</td>\n",
       "      <td>40</td>\n",
       "      <td>3</td>\n",
       "    </tr>\n",
       "    <tr>\n",
       "      <th>5</th>\n",
       "      <td>22</td>\n",
       "      <td>17000</td>\n",
       "      <td>76</td>\n",
       "      <td>2</td>\n",
       "    </tr>\n",
       "    <tr>\n",
       "      <th>6</th>\n",
       "      <td>35</td>\n",
       "      <td>20000</td>\n",
       "      <td>94</td>\n",
       "      <td>2</td>\n",
       "    </tr>\n",
       "    <tr>\n",
       "      <th>7</th>\n",
       "      <td>40</td>\n",
       "      <td>27000</td>\n",
       "      <td>3</td>\n",
       "      <td>3</td>\n",
       "    </tr>\n",
       "    <tr>\n",
       "      <th>8</th>\n",
       "      <td>23</td>\n",
       "      <td>29000</td>\n",
       "      <td>72</td>\n",
       "      <td>0</td>\n",
       "    </tr>\n",
       "    <tr>\n",
       "      <th>9</th>\n",
       "      <td>28</td>\n",
       "      <td>30000</td>\n",
       "      <td>14</td>\n",
       "      <td>3</td>\n",
       "    </tr>\n",
       "  </tbody>\n",
       "</table>\n",
       "</div>"
      ],
      "text/plain": [
       "   Age  Annual_Income  Spending_Score  cluster\n",
       "0   19          15000              39        1\n",
       "1   21          18000              81        2\n",
       "2   20          19000               6        1\n",
       "3   23          22000              77        2\n",
       "4   31          25000              40        3\n",
       "5   22          17000              76        2\n",
       "6   35          20000              94        2\n",
       "7   40          27000               3        3\n",
       "8   23          29000              72        0\n",
       "9   28          30000              14        3"
      ]
     },
     "execution_count": 24,
     "metadata": {},
     "output_type": "execute_result"
    }
   ],
   "source": [
    "pandas_df"
   ]
  },
  {
   "cell_type": "code",
   "execution_count": 25,
   "id": "6d47997f-cd2a-416a-b901-c348c078bdad",
   "metadata": {},
   "outputs": [],
   "source": [
    "pandas_df.to_csv(\"customers_clustered.csv\", index=False)"
   ]
  },
  {
   "cell_type": "code",
   "execution_count": 26,
   "id": "7ab49faf-c528-4237-bc17-5a8c02a193a3",
   "metadata": {},
   "outputs": [],
   "source": [
    "import seaborn as sns\n",
    "import matplotlib.pyplot as plt"
   ]
  },
  {
   "cell_type": "code",
   "execution_count": 28,
   "id": "9737bfe8-bfce-471f-ae95-5f88b0f64dd0",
   "metadata": {},
   "outputs": [
    {
     "data": {
      "image/png": "[encoded data removed]",
      "text/plain": [
       "<Figure size 640x480 with 1 Axes>"
      ]
     },
     "metadata": {},
     "output_type": "display_data"
    }
   ],
   "source": [
    "sns.scatterplot(data=pandas_df, x='Annual_Income', y='Spending_Score', hue='cluster', palette='winter')\n",
    "plt.title(\"Customer Segments based on KMeans Clustering\")\n",
    "plt.xlabel(\"Annual Income\")\n",
    "plt.ylabel(\"Spending Score\")\n",
    "plt.grid(True)\n",
    "plt.show()"
   ]
  },
  {
   "cell_type": "code",
   "execution_count": null,
   "id": "c6066bc8-1fb9-4469-9ef0-703b5aaa75ba",
   "metadata": {},
   "outputs": [],
   "source": []
  }
 ],
 "metadata": {
  "kernelspec": {
   "display_name": "Python 3 (ipykernel)",
   "language": "python",
   "name": "python3"
  },
  "language_info": {
   "codemirror_mode": {
    "name": "ipython",
    "version": 3
   },
   "file_extension": ".py",
   "mimetype": "text/x-python",
   "name": "python",
   "nbconvert_exporter": "python",
   "pygments_lexer": "ipython3",
   "version": "3.12.7"
  }
 },
 "nbformat": 4,
 "nbformat_minor": 5
}
