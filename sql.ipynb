{
 "cells": [
  {
   "cell_type": "code",
   "execution_count": 1,
   "id": "d48e088d-690c-480a-99e9-d62bb17e4e11",
   "metadata": {},
   "outputs": [],
   "source": [
    "from pyspark.sql import SparkSession"
   ]
  },
  {
   "cell_type": "code",
   "execution_count": 2,
   "id": "058b087b-69b6-4f0d-b7f4-fdbaad3bfd5e",
   "metadata": {},
   "outputs": [],
   "source": [
    "spark = SparkSession.builder.appName(\"MoviesAnalysis\").getOrCreate()"
   ]
  },
  {
   "cell_type": "code",
   "execution_count": 3,
   "id": "b24bed8d-703e-4473-886d-94b65a268312",
   "metadata": {},
   "outputs": [
    {
     "data": {
      "text/html": [
       "\n",
       "            <div>\n",
       "                <p><b>SparkSession - in-memory</b></p>\n",
       "                \n",
       "        <div>\n",
       "            <p><b>SparkContext</b></p>\n",
       "\n",
       "            <p><a href=\"http://SHIVAM-HP-ENVY:4041\">Spark UI</a></p>\n",
       "\n",
       "            <dl>\n",
       "              <dt>Version</dt>\n",
       "                <dd><code>v3.5.5</code></dd>\n",
       "              <dt>Master</dt>\n",
       "                <dd><code>local[*]</code></dd>\n",
       "              <dt>AppName</dt>\n",
       "                <dd><code>MoviesAnalysis</code></dd>\n",
       "            </dl>\n",
       "        </div>\n",
       "        \n",
       "            </div>\n",
       "        "
      ],
      "text/plain": [
       "<pyspark.sql.session.SparkSession at 0x186ff99b500>"
      ]
     },
     "execution_count": 3,
     "metadata": {},
     "output_type": "execute_result"
    }
   ],
   "source": [
    "spark"
   ]
  },
  {
   "cell_type": "code",
   "execution_count": 4,
   "id": "2b609e4e-72a3-4a64-970f-daa59b365920",
   "metadata": {},
   "outputs": [],
   "source": [
    "movies_df = spark.read.csv(\"movies.csv\", header=True, inferSchema=True)"
   ]
  },
  {
   "cell_type": "code",
   "execution_count": 5,
   "id": "a39156dd-0f7e-4d7a-bdd5-ae55cc143075",
   "metadata": {},
   "outputs": [
    {
     "name": "stdout",
     "output_type": "stream",
     "text": [
      "+-------+--------------------+-------+------+-------+\n",
      "|MovieID|               Title|  Genre|Rating|  Votes|\n",
      "+-------+--------------------+-------+------+-------+\n",
      "|      1|The Shawshank Red...|  Drama|   9.3|2345678|\n",
      "|      2|       The Godfather|  Crime|   9.2|1657452|\n",
      "|      3|     The Dark Knight| Action|   9.0|2456789|\n",
      "|      4|        Pulp Fiction|  Crime|   8.9|1894321|\n",
      "|      5|The Lord of the R...|Fantasy|   8.8|1298456|\n",
      "|      6|        Forrest Gump|  Drama|   8.8|1658345|\n",
      "|      7|           Inception| Sci-Fi|   8.7|2089765|\n",
      "|      8|          Fight Club|  Drama|   8.8|1734567|\n",
      "|      9|          The Matrix| Sci-Fi|   8.7|2001453|\n",
      "|     10|          Goodfellas|  Crime|   8.7|1423567|\n",
      "+-------+--------------------+-------+------+-------+\n",
      "\n"
     ]
    }
   ],
   "source": [
    "movies_df.show()"
   ]
  },
  {
   "cell_type": "code",
   "execution_count": 6,
   "id": "812ecc6d-1b48-424c-b336-658e9e13733a",
   "metadata": {},
   "outputs": [],
   "source": [
    "movies_df.createOrReplaceTempView(\"movies\")"
   ]
  },
  {
   "cell_type": "code",
   "execution_count": 7,
   "id": "156342ea-7ef3-430b-8022-84c2d56e5235",
   "metadata": {},
   "outputs": [
    {
     "name": "stdout",
     "output_type": "stream",
     "text": [
      "+------+---------+\n",
      "| Genre|AvgRating|\n",
      "+------+---------+\n",
      "|Action|      9.0|\n",
      "| Drama|     8.97|\n",
      "| Crime|     8.93|\n",
      "+------+---------+\n",
      "\n"
     ]
    }
   ],
   "source": [
    "top_genres = spark.sql(\"\"\"\n",
    "    SELECT Genre, ROUND(AVG(Rating), 2) AS AvgRating\n",
    "    FROM movies\n",
    "    GROUP BY Genre\n",
    "    ORDER BY AvgRating DESC\n",
    "    LIMIT 3\n",
    "\"\"\")\n",
    "\n",
    "top_genres.show()"
   ]
  },
  {
   "cell_type": "code",
   "execution_count": 8,
   "id": "2e7cf1c3-d6e4-4bbb-895e-406e6047a92c",
   "metadata": {},
   "outputs": [
    {
     "name": "stdout",
     "output_type": "stream",
     "text": [
      "+---------------+-------+\n",
      "|          Title|  Votes|\n",
      "+---------------+-------+\n",
      "|The Dark Knight|2456789|\n",
      "+---------------+-------+\n",
      "\n"
     ]
    }
   ],
   "source": [
    "most_voted_movie = spark.sql(\"\"\"\n",
    "    SELECT Title, Votes\n",
    "    FROM movies\n",
    "    ORDER BY Votes DESC\n",
    "    LIMIT 1\n",
    "\"\"\")\n",
    "\n",
    "most_voted_movie.show()"
   ]
  },
  {
   "cell_type": "code",
   "execution_count": 9,
   "id": "dd63681f-446a-4803-b29d-0af5059f0e02",
   "metadata": {},
   "outputs": [
    {
     "name": "stdout",
     "output_type": "stream",
     "text": [
      "+-------+----------+\n",
      "|  Genre|MovieCount|\n",
      "+-------+----------+\n",
      "|  Crime|         3|\n",
      "|  Drama|         3|\n",
      "| Sci-Fi|         2|\n",
      "|Fantasy|         1|\n",
      "| Action|         1|\n",
      "+-------+----------+\n",
      "\n"
     ]
    }
   ],
   "source": [
    "movie_count_by_genre = spark.sql(\"\"\"\n",
    "    SELECT Genre, COUNT(*) AS MovieCount\n",
    "    FROM movies\n",
    "    GROUP BY Genre\n",
    "    ORDER BY MovieCount DESC\n",
    "\"\"\")\n",
    "\n",
    "movie_count_by_genre.show()"
   ]
  }
 ],
 "metadata": {
  "kernelspec": {
   "display_name": "Python 3 (ipykernel)",
   "language": "python",
   "name": "python3"
  },
  "language_info": {
   "codemirror_mode": {
    "name": "ipython",
    "version": 3
   },
   "file_extension": ".py",
   "mimetype": "text/x-python",
   "name": "python",
   "nbconvert_exporter": "python",
   "pygments_lexer": "ipython3",
   "version": "3.12.7"
  }
 },
 "nbformat": 4,
 "nbformat_minor": 5
}
