{
 "cells": [
  {
   "cell_type": "code",
   "execution_count": 2,
   "metadata": {
    "colab": {
     "base_uri": "https://localhost:8080/"
    },
    "id": "oOC21yFMZSca",
    "outputId": "c43feff1-d480-4510-cfe5-36b211e6d0be"
   },
   "outputs": [
    {
     "name": "stdout",
     "output_type": "stream",
     "text": [
      "Filtered numbers greater than 50: [356, 80, 123]\n",
      "Sum of filtered numbers: 559\n"
     ]
    }
   ],
   "source": [
    "from pyspark.sql import SparkSession\n",
    "from pyspark.context import SparkContext\n",
    "\n",
    "# Step 1: Create a Spark session and context\n",
    "spark = SparkSession.builder.appName(\"LoadTextFile\").getOrCreate()\n",
    "sc = spark.sparkContext  # Get Spark Context\n",
    "\n",
    "# Step 2: Load the text file as an RDD\n",
    "rdd = sc.textFile(\"register_no.txt\")  # Replace with the actual file path\n",
    "\n",
    "# Step 3: Convert values to integers\n",
    "num_rdd = rdd.map(lambda x: int(x))\n",
    "\n",
    "# Step 4: Filter numbers greater than 50\n",
    "filtered_rdd = num_rdd.filter(lambda x: x > 50)\n",
    "\n",
    "# Step 5: Compute the sum of filtered numbers\n",
    "total_sum = filtered_rdd.reduce(lambda x, y: x + y)\n",
    "\n",
    "# Step 6: Display results\n",
    "print(f\"Filtered numbers greater than 50: {filtered_rdd.collect()}\")\n",
    "print(f\"Sum of filtered numbers: {total_sum}\")"
   ]
  },
  {
   "cell_type": "code",
   "execution_count": 3,
   "metadata": {
    "colab": {
     "base_uri": "https://localhost:8080/"
    },
    "id": "0L3AYZV2aJ8l",
    "outputId": "063aa148-95ed-4fbc-ca7e-445eb04879d2"
   },
   "outputs": [
    {
     "name": "stdout",
     "output_type": "stream",
     "text": [
      "Odd Numbers: [1, 3, 5, 7, 9]\n",
      "Total Odd Numbers Count: 5\n"
     ]
    }
   ],
   "source": [
    "from pyspark.sql import SparkSession\n",
    "\n",
    "# Step 1: Create Spark Session\n",
    "spark = SparkSession.builder.appName(\"OddNumbersFilter\").getOrCreate()\n",
    "\n",
    "# Step 2: Create RDD from the list\n",
    "rdd = spark.sparkContext.parallelize([1, 2, 3, 4, 5, 6, 7, 8, 9, 10])\n",
    "\n",
    "# Step 3: Filter out odd numbers\n",
    "odd_numbers_rdd = rdd.filter(lambda x: x % 2 != 0)\n",
    "\n",
    "# Step 4: Count total number of odd numbers\n",
    "odd_count = odd_numbers_rdd.count()\n",
    "\n",
    "# Step 5: Display results\n",
    "print(f\"Odd Numbers: {odd_numbers_rdd.collect()}\")\n",
    "print(f\"Total Odd Numbers Count: {odd_count}\")"
   ]
  },
  {
   "cell_type": "code",
   "execution_count": 4,
   "metadata": {
    "colab": {
     "base_uri": "https://localhost:8080/"
    },
    "id": "Sjk6pLQkawzt",
    "outputId": "32a4b26d-a602-4596-8ce2-1042ec53c204"
   },
   "outputs": [
    {
     "data": {
      "text/plain": [
       "[('PySpark', 4),\n",
       " ('Hello', 2),\n",
       " ('world', 1),\n",
       " ('Welcome', 1),\n",
       " ('to', 1),\n",
       " ('fun', 1),\n",
       " ('Learn', 1),\n",
       " ('with', 1),\n",
       " ('examples', 1),\n",
       " ('is', 1)]"
      ]
     },
     "execution_count": 4,
     "metadata": {},
     "output_type": "execute_result"
    }
   ],
   "source": [
    "from pyspark.sql import SparkSession\n",
    "from pyspark.context import SparkContext\n",
    "\n",
    "# Step 1: Create Spark session and context\n",
    "spark = SparkSession.builder.appName(\"WordCount\").getOrCreate()\n",
    "sc = spark.sparkContext  # Get Spark Context\n",
    "\n",
    "# Step 2: Load the text file into an RDD\n",
    "rdd = sc.textFile(\"Sample.txt\")\n",
    "\n",
    "# Step 3: Split lines into words\n",
    "words_rdd = rdd.flatMap(lambda line: line.split(\" \"))\n",
    "\n",
    "# Step 4: Count occurrences of each word\n",
    "word_counts_rdd = words_rdd.map(lambda word: (word, 1)).reduceByKey(lambda a, b: a + b)\n",
    "\n",
    "# Step 5: Sort by frequency in descending order\n",
    "sorted_word_counts = word_counts_rdd.sortBy(lambda x: x[1], ascending=False)\n",
    "\n",
    "# Step 6: Display results\n",
    "sorted_word_counts.collect()"
   ]
  },
  {
   "cell_type": "code",
   "execution_count": null,
   "metadata": {
    "id": "8EVUGBFibXgY"
   },
   "outputs": [],
   "source": []
  }
 ],
 "metadata": {
  "colab": {
   "provenance": []
  },
  "kernelspec": {
   "display_name": "Python 3 (ipykernel)",
   "language": "python",
   "name": "python3"
  },
  "language_info": {
   "codemirror_mode": {
    "name": "ipython",
    "version": 3
   },
   "file_extension": ".py",
   "mimetype": "text/x-python",
   "name": "python",
   "nbconvert_exporter": "python",
   "pygments_lexer": "ipython3",
   "version": "3.12.7"
  }
 },
 "nbformat": 4,
 "nbformat_minor": 4
}
